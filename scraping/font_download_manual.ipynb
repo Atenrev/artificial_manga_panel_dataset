{
 "cells": [
  {
   "cell_type": "code",
   "execution_count": 1,
   "id": "c64f95a9",
   "metadata": {},
   "outputs": [],
   "source": [
    "font_links_file = \"datasets/font_dataset/browse_links.txt\""
   ]
  },
  {
   "cell_type": "code",
   "execution_count": 2,
   "id": "ff83c870",
   "metadata": {},
   "outputs": [
    {
     "name": "stdout",
     "output_type": "stream",
     "text": [
      "/Users/aasimsani/Documents/code/artificial_manga_panel_dataset\n"
     ]
    }
   ],
   "source": [
    "cd ../"
   ]
  },
  {
   "cell_type": "code",
   "execution_count": 3,
   "id": "d2bf9d65",
   "metadata": {},
   "outputs": [],
   "source": [
    "links = []\n",
    "with open(font_links_file) as f:\n",
    "    links = [link.replace(\"\\n\", \"\") for link in f.readlines()]\n",
    "    "
   ]
  },
  {
   "cell_type": "code",
   "execution_count": null,
   "id": "19f03a01",
   "metadata": {},
   "outputs": [
    {
     "name": "stdout",
     "output_type": "stream",
     "text": [
      "1 https://www.freejapanesefont.com/sanchoume-handwriting-font-download/\n"
     ]
    },
    {
     "name": "stdin",
     "output_type": "stream",
     "text": [
      " \n"
     ]
    },
    {
     "name": "stdout",
     "output_type": "stream",
     "text": [
      "2 https://www.freejapanesefont.com/seira-moji-2-handwriting-font-download/\n"
     ]
    },
    {
     "name": "stdin",
     "output_type": "stream",
     "text": [
      " \n"
     ]
    },
    {
     "name": "stdout",
     "output_type": "stream",
     "text": [
      "3 https://www.freejapanesefont.com/851-tegaki-zatsu-handwriting-free-font-download/\n"
     ]
    },
    {
     "name": "stdin",
     "output_type": "stream",
     "text": [
      " \n"
     ]
    },
    {
     "name": "stdout",
     "output_type": "stream",
     "text": [
      "4 https://www.freejapanesefont.com/aozora-mincho-download/\n"
     ]
    },
    {
     "name": "stdin",
     "output_type": "stream",
     "text": [
      " \n"
     ]
    },
    {
     "name": "stdout",
     "output_type": "stream",
     "text": [
      "5 https://www.freejapanesefont.com/guzuri-font-1nensei-download/\n"
     ]
    },
    {
     "name": "stdin",
     "output_type": "stream",
     "text": [
      " \n"
     ]
    },
    {
     "name": "stdout",
     "output_type": "stream",
     "text": [
      "6 https://www.freejapanesefont.com/fg-pop-gothic/\n"
     ]
    },
    {
     "name": "stdin",
     "output_type": "stream",
     "text": [
      " \n"
     ]
    },
    {
     "name": "stdout",
     "output_type": "stream",
     "text": [
      "7 https://www.freejapanesefont.com/fg-modern-gothic/\n"
     ]
    },
    {
     "name": "stdin",
     "output_type": "stream",
     "text": [
      " \n"
     ]
    },
    {
     "name": "stdout",
     "output_type": "stream",
     "text": [
      "8 https://www.freejapanesefont.com/yasashisa-antique-download/\n"
     ]
    },
    {
     "name": "stdin",
     "output_type": "stream",
     "text": [
      " \n"
     ]
    },
    {
     "name": "stdout",
     "output_type": "stream",
     "text": [
      "9 https://www.freejapanesefont.com/mart-futomaru-shadow/\n"
     ]
    },
    {
     "name": "stdin",
     "output_type": "stream",
     "text": [
      " \n"
     ]
    },
    {
     "name": "stdout",
     "output_type": "stream",
     "text": [
      "10 https://www.freejapanesefont.com/hakusyu-kaisho-bold-calligraphy/\n"
     ]
    },
    {
     "name": "stdin",
     "output_type": "stream",
     "text": [
      " \n"
     ]
    },
    {
     "name": "stdout",
     "output_type": "stream",
     "text": [
      "11 https://www.freejapanesefont.com/sanafonkata/\n"
     ]
    },
    {
     "name": "stdin",
     "output_type": "stream",
     "text": [
      " \n"
     ]
    },
    {
     "name": "stdout",
     "output_type": "stream",
     "text": [
      "12 https://www.freejapanesefont.com/sanafonkaku-handwriting-font/\n"
     ]
    },
    {
     "name": "stdin",
     "output_type": "stream",
     "text": [
      " \n"
     ]
    },
    {
     "name": "stdout",
     "output_type": "stream",
     "text": [
      "13 https://www.freejapanesefont.com/sanafonmugi-handwriting-font-download/\n"
     ]
    },
    {
     "name": "stdin",
     "output_type": "stream",
     "text": [
      " \n"
     ]
    },
    {
     "name": "stdout",
     "output_type": "stream",
     "text": [
      "14 https://www.freejapanesefont.com/sanafonkazari-calligraphy-pen-font-download/\n"
     ]
    },
    {
     "name": "stdin",
     "output_type": "stream",
     "text": [
      " \n"
     ]
    },
    {
     "name": "stdout",
     "output_type": "stream",
     "text": [
      "15 https://www.freejapanesefont.com/sanafon-maru-handwriting-font-download/\n"
     ]
    },
    {
     "name": "stdin",
     "output_type": "stream",
     "text": [
      " \n"
     ]
    },
    {
     "name": "stdout",
     "output_type": "stream",
     "text": [
      "16 https://www.freejapanesefont.com/sanafon-handwriting-font-download/\n"
     ]
    },
    {
     "name": "stdin",
     "output_type": "stream",
     "text": [
      " \n"
     ]
    },
    {
     "name": "stdout",
     "output_type": "stream",
     "text": [
      "17 https://www.freejapanesefont.com/hc-maru-gothic-font-download/\n"
     ]
    },
    {
     "name": "stdin",
     "output_type": "stream",
     "text": [
      " \n"
     ]
    },
    {
     "name": "stdout",
     "output_type": "stream",
     "text": [
      "18 https://www.freejapanesefont.com/mukasi-mukasi-font-download/\n"
     ]
    },
    {
     "name": "stdin",
     "output_type": "stream",
     "text": [
      " \n"
     ]
    },
    {
     "name": "stdout",
     "output_type": "stream",
     "text": [
      "19 https://www.freejapanesefont.com/katyou-regular-font/\n"
     ]
    },
    {
     "name": "stdin",
     "output_type": "stream",
     "text": [
      " \n"
     ]
    },
    {
     "name": "stdout",
     "output_type": "stream",
     "text": [
      "20 https://www.freejapanesefont.com/fc-flower-handwriting-font/\n"
     ]
    },
    {
     "name": "stdin",
     "output_type": "stream",
     "text": [
      " \n"
     ]
    },
    {
     "name": "stdout",
     "output_type": "stream",
     "text": [
      "21 https://www.freejapanesefont.com/mitimasu-handwriting-font-download/\n"
     ]
    },
    {
     "name": "stdin",
     "output_type": "stream",
     "text": [
      " \n"
     ]
    },
    {
     "name": "stdout",
     "output_type": "stream",
     "text": [
      "22 https://www.freejapanesefont.com/nukamiso-font-download/\n"
     ]
    },
    {
     "name": "stdin",
     "output_type": "stream",
     "text": [
      " \n"
     ]
    },
    {
     "name": "stdout",
     "output_type": "stream",
     "text": [
      "23 https://www.freejapanesefont.com/four-seasons-font-download/\n"
     ]
    },
    {
     "name": "stdin",
     "output_type": "stream",
     "text": [
      " \n"
     ]
    },
    {
     "name": "stdout",
     "output_type": "stream",
     "text": [
      "24 https://www.freejapanesefont.com/sapphire-handwriting-font-download/\n"
     ]
    },
    {
     "name": "stdin",
     "output_type": "stream",
     "text": [
      " \n"
     ]
    },
    {
     "name": "stdout",
     "output_type": "stream",
     "text": [
      "25 https://www.freejapanesefont.com/kajuden-handwriting-font-regular-download/\n"
     ]
    },
    {
     "name": "stdin",
     "output_type": "stream",
     "text": [
      " \n"
     ]
    },
    {
     "name": "stdout",
     "output_type": "stream",
     "text": [
      "26 https://www.freejapanesefont.com/jet-black-calligraphy-font/\n"
     ]
    },
    {
     "name": "stdin",
     "output_type": "stream",
     "text": [
      " \n"
     ]
    },
    {
     "name": "stdout",
     "output_type": "stream",
     "text": [
      "27 https://www.freejapanesefont.com/s2g-love-cute-font/\n"
     ]
    },
    {
     "name": "stdin",
     "output_type": "stream",
     "text": [
      " \n"
     ]
    },
    {
     "name": "stdout",
     "output_type": "stream",
     "text": [
      "28 https://www.freejapanesefont.com/seira-moji-pen/\n"
     ]
    },
    {
     "name": "stdin",
     "output_type": "stream",
     "text": [
      " \n"
     ]
    },
    {
     "name": "stdout",
     "output_type": "stream",
     "text": [
      "29 https://www.freejapanesefont.com/seira-fountain-pen/\n"
     ]
    },
    {
     "name": "stdin",
     "output_type": "stream",
     "text": [
      " \n"
     ]
    },
    {
     "name": "stdout",
     "output_type": "stream",
     "text": [
      "30 https://www.freejapanesefont.com/nemuke-font/\n"
     ]
    },
    {
     "name": "stdin",
     "output_type": "stream",
     "text": [
      " \n"
     ]
    },
    {
     "name": "stdout",
     "output_type": "stream",
     "text": [
      "31 https://www.freejapanesefont.com/yutapon-coding-font-download/\n"
     ]
    },
    {
     "name": "stdin",
     "output_type": "stream",
     "text": [
      " \n"
     ]
    },
    {
     "name": "stdout",
     "output_type": "stream",
     "text": [
      "32 https://www.freejapanesefont.com/yuta-coco-font-download/\n"
     ]
    },
    {
     "name": "stdin",
     "output_type": "stream",
     "text": [
      " \n"
     ]
    },
    {
     "name": "stdout",
     "output_type": "stream",
     "text": [
      "33 https://www.freejapanesefont.com/zin-hena-bokuryu-calligraphy-font-download/\n"
     ]
    },
    {
     "name": "stdin",
     "output_type": "stream",
     "text": [
      " \n"
     ]
    },
    {
     "name": "stdout",
     "output_type": "stream",
     "text": [
      "34 https://www.freejapanesefont.com/checkpoint-font-download/\n"
     ]
    },
    {
     "name": "stdin",
     "output_type": "stream",
     "text": [
      " \n"
     ]
    },
    {
     "name": "stdout",
     "output_type": "stream",
     "text": [
      "35 https://www.freejapanesefont.com/jiyu-no-tsubasa-shingeki-nokyojin-font-download/\n"
     ]
    },
    {
     "name": "stdin",
     "output_type": "stream",
     "text": [
      " \n"
     ]
    },
    {
     "name": "stdout",
     "output_type": "stream",
     "text": [
      "36 https://www.freejapanesefont.com/armed-banana-download/\n"
     ]
    },
    {
     "name": "stdin",
     "output_type": "stream",
     "text": [
      " \n"
     ]
    },
    {
     "name": "stdout",
     "output_type": "stream",
     "text": [
      "37 https://www.freejapanesefont.com/utsukushi-mincho-download/\n"
     ]
    },
    {
     "name": "stdin",
     "output_type": "stream",
     "text": [
      " \n"
     ]
    },
    {
     "name": "stdout",
     "output_type": "stream",
     "text": [
      "38 https://www.freejapanesefont.com/mikiyu-font-new-penji-download/\n"
     ]
    },
    {
     "name": "stdin",
     "output_type": "stream",
     "text": [
      " \n"
     ]
    },
    {
     "name": "stdout",
     "output_type": "stream",
     "text": [
      "39 https://www.freejapanesefont.com/jin-pen-keba-download/\n"
     ]
    },
    {
     "name": "stdin",
     "output_type": "stream",
     "text": [
      " \n"
     ]
    },
    {
     "name": "stdout",
     "output_type": "stream",
     "text": [
      "40 https://www.freejapanesefont.com/jin-pen-ito-download/\n"
     ]
    },
    {
     "name": "stdin",
     "output_type": "stream",
     "text": [
      " \n"
     ]
    },
    {
     "name": "stdout",
     "output_type": "stream",
     "text": [
      "41 https://www.freejapanesefont.com/nagayama-kai-calligraphy-font-download/\n"
     ]
    },
    {
     "name": "stdin",
     "output_type": "stream",
     "text": [
      " \n"
     ]
    },
    {
     "name": "stdout",
     "output_type": "stream",
     "text": [
      "42 https://www.freejapanesefont.com/osaka-font-download/\n"
     ]
    },
    {
     "name": "stdin",
     "output_type": "stream",
     "text": [
      " \n"
     ]
    },
    {
     "name": "stdout",
     "output_type": "stream",
     "text": [
      "43 https://www.freejapanesefont.com/s2g-nagurigaki-handwriting-font/\n"
     ]
    },
    {
     "name": "stdin",
     "output_type": "stream",
     "text": [
      " \n"
     ]
    },
    {
     "name": "stdout",
     "output_type": "stream",
     "text": [
      "44 https://www.freejapanesefont.com/s2g-moon-handwriting-font-download/\n"
     ]
    },
    {
     "name": "stdin",
     "output_type": "stream",
     "text": [
      " \n"
     ]
    },
    {
     "name": "stdout",
     "output_type": "stream",
     "text": [
      "45 https://www.freejapanesefont.com/s2g-umi-handwriting-font-download/\n"
     ]
    },
    {
     "name": "stdin",
     "output_type": "stream",
     "text": [
      " \n"
     ]
    },
    {
     "name": "stdout",
     "output_type": "stream",
     "text": [
      "46 https://www.freejapanesefont.com/tantansan-calligraphy-font-download/\n"
     ]
    },
    {
     "name": "stdin",
     "output_type": "stream",
     "text": [
      " \n"
     ]
    },
    {
     "name": "stdout",
     "output_type": "stream",
     "text": [
      "47 https://www.freejapanesefont.com/nishiki-teki-font-download/\n"
     ]
    },
    {
     "name": "stdin",
     "output_type": "stream",
     "text": [
      " \n"
     ]
    },
    {
     "name": "stdout",
     "output_type": "stream",
     "text": [
      "48 https://www.freejapanesefont.com/idfont-kaiun-download/\n"
     ]
    },
    {
     "name": "stdin",
     "output_type": "stream",
     "text": [
      " \n"
     ]
    },
    {
     "name": "stdout",
     "output_type": "stream",
     "text": [
      "49 https://www.freejapanesefont.com/idfont-ftmaru-rounded-font-download/\n"
     ]
    },
    {
     "name": "stdin",
     "output_type": "stream",
     "text": [
      " \n"
     ]
    },
    {
     "name": "stdout",
     "output_type": "stream",
     "text": [
      "50 https://www.freejapanesefont.com/idfont-maru-rounded-font-download/\n"
     ]
    },
    {
     "name": "stdin",
     "output_type": "stream",
     "text": [
      " \n"
     ]
    },
    {
     "name": "stdout",
     "output_type": "stream",
     "text": [
      "51 https://www.freejapanesefont.com/gakuran-calligraphy-font-download/\n"
     ]
    },
    {
     "name": "stdin",
     "output_type": "stream",
     "text": [
      " \n"
     ]
    },
    {
     "name": "stdout",
     "output_type": "stream",
     "text": [
      "52 https://www.freejapanesefont.com/amakara-sample-calligraphy-font-download/\n"
     ]
    },
    {
     "name": "stdin",
     "output_type": "stream",
     "text": [
      " \n"
     ]
    },
    {
     "name": "stdout",
     "output_type": "stream",
     "text": [
      "53 https://www.freejapanesefont.com/ac-gyosho-calligraph/\n"
     ]
    },
    {
     "name": "stdin",
     "output_type": "stream",
     "text": [
      " \n"
     ]
    },
    {
     "name": "stdout",
     "output_type": "stream",
     "text": [
      "54 https://www.freejapanesefont.com/ac-kaisho-calligraphy-font/\n"
     ]
    },
    {
     "name": "stdin",
     "output_type": "stream",
     "text": [
      " \n"
     ]
    },
    {
     "name": "stdout",
     "output_type": "stream",
     "text": [
      "55 https://www.freejapanesefont.com/ounen-calligraphy-free-download/\n"
     ]
    },
    {
     "name": "stdin",
     "output_type": "stream",
     "text": [
      " \n"
     ]
    },
    {
     "name": "stdout",
     "output_type": "stream",
     "text": [
      "56 https://www.freejapanesefont.com/tare-font-download/\n"
     ]
    },
    {
     "name": "stdin",
     "output_type": "stream",
     "text": [
      " \n"
     ]
    },
    {
     "name": "stdout",
     "output_type": "stream",
     "text": [
      "57 https://www.freejapanesefont.com/y-ozfont-calligraphy-free-download/\n"
     ]
    },
    {
     "name": "stdin",
     "output_type": "stream",
     "text": [
      " \n"
     ]
    },
    {
     "name": "stdout",
     "output_type": "stream",
     "text": [
      "58 https://www.freejapanesefont.com/y-ozfont-pen-free-download/\n"
     ]
    },
    {
     "name": "stdin",
     "output_type": "stream",
     "text": [
      " \n"
     ]
    },
    {
     "name": "stdout",
     "output_type": "stream",
     "text": [
      "59 https://www.freejapanesefont.com/mikachan-free-download/\n"
     ]
    },
    {
     "name": "stdin",
     "output_type": "stream",
     "text": [
      " \n"
     ]
    },
    {
     "name": "stdout",
     "output_type": "stream",
     "text": [
      "60 https://www.freejapanesefont.com/maki-circle-hand-free-download/\n"
     ]
    },
    {
     "name": "stdin",
     "output_type": "stream",
     "text": [
      " \n"
     ]
    },
    {
     "name": "stdout",
     "output_type": "stream",
     "text": [
      "61 https://www.freejapanesefont.com/yama-font-free-download/\n"
     ]
    },
    {
     "name": "stdin",
     "output_type": "stream",
     "text": [
      " \n"
     ]
    },
    {
     "name": "stdout",
     "output_type": "stream",
     "text": [
      "62 https://www.freejapanesefont.com/togoshi-mincho-%e6%88%b8%e8%b6%8a%e6%98%8e%e6%9c%9d/\n"
     ]
    },
    {
     "name": "stdin",
     "output_type": "stream",
     "text": [
      " \n"
     ]
    },
    {
     "name": "stdout",
     "output_type": "stream",
     "text": [
      "63 https://www.freejapanesefont.com/togoshi-gothic-%e6%88%b8%e8%b6%8a%e3%82%b4%e3%82%b7%e3%83%83%e3%82%af/\n"
     ]
    },
    {
     "name": "stdin",
     "output_type": "stream",
     "text": [
      " \n"
     ]
    },
    {
     "name": "stdout",
     "output_type": "stream",
     "text": [
      "64 https://www.freejapanesefont.com/akubin-free-download/\n"
     ]
    },
    {
     "name": "stdin",
     "output_type": "stream",
     "text": [
      " \n"
     ]
    },
    {
     "name": "stdout",
     "output_type": "stream",
     "text": [
      "65 https://www.freejapanesefont.com/yakitori-free-download/\n"
     ]
    },
    {
     "name": "stdin",
     "output_type": "stream",
     "text": [
      " \n"
     ]
    },
    {
     "name": "stdout",
     "output_type": "stream",
     "text": [
      "66 https://www.freejapanesefont.com/jiyucho-free-download/\n"
     ]
    },
    {
     "name": "stdin",
     "output_type": "stream",
     "text": [
      " \n"
     ]
    },
    {
     "name": "stdout",
     "output_type": "stream",
     "text": [
      "67 https://www.freejapanesefont.com/ghatee-free-download/\n"
     ]
    },
    {
     "name": "stdin",
     "output_type": "stream",
     "text": [
      " \n"
     ]
    },
    {
     "name": "stdout",
     "output_type": "stream",
     "text": [
      "68 https://www.freejapanesefont.com/gyate-luminescence/\n"
     ]
    },
    {
     "name": "stdin",
     "output_type": "stream",
     "text": [
      " \n"
     ]
    },
    {
     "name": "stdout",
     "output_type": "stream",
     "text": [
      "69 https://www.freejapanesefont.com/wada-lab-maru-gothic-%e5%92%8c%e7%94%b0%e7%a0%94%e7%b4%b0%e4%b8%b8%e3%82%b4%e3%82%b7%e3%83%83%e3%82%af/\n"
     ]
    },
    {
     "name": "stdin",
     "output_type": "stream",
     "text": [
      " \n"
     ]
    },
    {
     "name": "stdout",
     "output_type": "stream",
     "text": [
      "70 https://www.freejapanesefont.com/dining-message-font/\n"
     ]
    },
    {
     "name": "stdin",
     "output_type": "stream",
     "text": [
      " \n"
     ]
    },
    {
     "name": "stdout",
     "output_type": "stream",
     "text": [
      "71 https://www.freejapanesefont.com/gebamoji-font-%e3%82%b2%e3%83%90%e6%96%87%e5%ad%97%e3%83%95%e3%82%a9%e3%83%b3%e3%83%88/\n"
     ]
    },
    {
     "name": "stdin",
     "output_type": "stream",
     "text": [
      " \n"
     ]
    },
    {
     "name": "stdout",
     "output_type": "stream",
     "text": [
      "72 https://www.freejapanesefont.com/ume-font-gothic-%e6%a2%85%e3%83%95%e3%82%a9%e3%83%b3%e3%83%88/\n"
     ]
    },
    {
     "name": "stdin",
     "output_type": "stream",
     "text": [
      " \n"
     ]
    },
    {
     "name": "stdout",
     "output_type": "stream",
     "text": [
      "73 https://www.freejapanesefont.com/ume-font-mincho-%e6%a2%85%e3%83%95%e3%82%a9%e3%83%b3%e3%83%88/\n"
     ]
    },
    {
     "name": "stdin",
     "output_type": "stream",
     "text": [
      " \n"
     ]
    },
    {
     "name": "stdout",
     "output_type": "stream",
     "text": [
      "74 https://www.freejapanesefont.com/hanazono-mincho-%e8%8a%b1%e5%9c%92%e6%98%8e%e6%9c%9d/\n"
     ]
    },
    {
     "name": "stdin",
     "output_type": "stream",
     "text": [
      " \n"
     ]
    },
    {
     "name": "stdout",
     "output_type": "stream",
     "text": [
      "75 https://www.freejapanesefont.com/flop-design-font/\n"
     ]
    },
    {
     "name": "stdin",
     "output_type": "stream",
     "text": [
      " \n"
     ]
    },
    {
     "name": "stdout",
     "output_type": "stream",
     "text": [
      "76 https://www.freejapanesefont.com/kinemaru-bold-%e3%82%ad%e3%83%8d%e4%b8%b8%e3%83%9c%e3%83%bc%e3%83%ab%e3%83%89/\n"
     ]
    },
    {
     "name": "stdin",
     "output_type": "stream",
     "text": [
      " \n"
     ]
    },
    {
     "name": "stdout",
     "output_type": "stream",
     "text": [
      "77 https://www.freejapanesefont.com/sister-font-%e5%a6%b9%e3%83%95%e3%82%a9%e3%83%b3%e3%83%88/\n"
     ]
    },
    {
     "name": "stdin",
     "output_type": "stream",
     "text": [
      " \n"
     ]
    },
    {
     "name": "stdout",
     "output_type": "stream",
     "text": [
      "78 https://www.freejapanesefont.com/cinecaption/\n"
     ]
    },
    {
     "name": "stdin",
     "output_type": "stream",
     "text": [
      " \n"
     ]
    },
    {
     "name": "stdout",
     "output_type": "stream",
     "text": [
      "79 https://www.freejapanesefont.com/3d-kirieji/\n"
     ]
    },
    {
     "name": "stdin",
     "output_type": "stream",
     "text": [
      " \n"
     ]
    },
    {
     "name": "stdout",
     "output_type": "stream",
     "text": [
      "80 https://www.freejapanesefont.com/yuzu-pen/\n"
     ]
    },
    {
     "name": "stdin",
     "output_type": "stream",
     "text": [
      " \n"
     ]
    },
    {
     "name": "stdout",
     "output_type": "stream",
     "text": [
      "81 https://www.freejapanesefont.com/hakidame-%e5%90%90%e3%81%8d%e6%ba%9c/\n"
     ]
    },
    {
     "name": "stdin",
     "output_type": "stream",
     "text": [
      " \n"
     ]
    },
    {
     "name": "stdout",
     "output_type": "stream",
     "text": [
      "82 https://www.freejapanesefont.com/onryou-horror-font-%e6%80%a8%e9%9c%8a/\n"
     ]
    },
    {
     "name": "stdin",
     "output_type": "stream",
     "text": [
      " \n"
     ]
    },
    {
     "name": "stdout",
     "output_type": "stream",
     "text": [
      "83 https://www.freejapanesefont.com/kodomo-rounded-gothic-light-%e3%81%93%e3%81%a9%e3%82%82%e4%b8%b8%e3%82%b4%e3%82%b7%e3%83%83%e3%82%af%e7%b4%b0%e3%82%81/\n"
     ]
    },
    {
     "name": "stdin",
     "output_type": "stream",
     "text": [
      " \n"
     ]
    },
    {
     "name": "stdout",
     "output_type": "stream",
     "text": [
      "84 https://www.freejapanesefont.com/kodomo-rounded-gothic-%e3%81%93%e3%81%a9%e3%82%82%e4%b8%b8%e3%82%b4%e3%82%b7%e3%83%83%e3%82%af/\n"
     ]
    },
    {
     "name": "stdin",
     "output_type": "stream",
     "text": [
      " \n"
     ]
    },
    {
     "name": "stdout",
     "output_type": "stream",
     "text": [
      "85 https://www.freejapanesefont.com/mofuji-%e3%83%a2%e3%83%95%e5%ad%97/\n"
     ]
    },
    {
     "name": "stdin",
     "output_type": "stream",
     "text": [
      " \n"
     ]
    },
    {
     "name": "stdout",
     "output_type": "stream",
     "text": [
      "86 https://www.freejapanesefont.com/kirieji-%e5%88%87%e7%b5%b5%e5%ad%97/\n"
     ]
    },
    {
     "name": "stdin",
     "output_type": "stream",
     "text": [
      " \n"
     ]
    },
    {
     "name": "stdout",
     "output_type": "stream",
     "text": [
      "87 https://www.freejapanesefont.com/%e6%b0%b4%e9%9d%a2%e5%ad%97-minamoji/\n"
     ]
    },
    {
     "name": "stdin",
     "output_type": "stream",
     "text": [
      " \n"
     ]
    },
    {
     "name": "stdout",
     "output_type": "stream",
     "text": [
      "88 https://www.freejapanesefont.com/gl-antique-plus/\n"
     ]
    },
    {
     "name": "stdin",
     "output_type": "stream",
     "text": [
      " \n"
     ]
    },
    {
     "name": "stdout",
     "output_type": "stream",
     "text": [
      "89 https://www.freejapanesefont.com/makibafont-%e3%81%be%e3%81%8d%e3%81%b0%e3%83%95%e3%82%a9%e3%83%b3%e3%83%88/\n"
     ]
    },
    {
     "name": "stdin",
     "output_type": "stream",
     "text": [
      " \n"
     ]
    },
    {
     "name": "stdout",
     "output_type": "stream",
     "text": [
      "90 https://www.freejapanesefont.com/huifont-%e3%81%b5%e3%81%84%e5%ad%97/\n"
     ]
    },
    {
     "name": "stdin",
     "output_type": "stream",
     "text": [
      " \n"
     ]
    },
    {
     "name": "stdout",
     "output_type": "stream",
     "text": [
      "91 https://www.freejapanesefont.com/mitsu-font-2-%e3%81%bf%e3%81%a4%e3%83%95%e3%82%a9%e3%83%b3%e3%83%882/\n"
     ]
    },
    {
     "name": "stdin",
     "output_type": "stream",
     "text": [
      " \n"
     ]
    },
    {
     "name": "stdout",
     "output_type": "stream",
     "text": [
      "92 https://www.freejapanesefont.com/mitsu-font-%e3%81%bf%e3%81%a4%e3%83%95%e3%82%a9%e3%83%b3%e3%83%88/\n"
     ]
    },
    {
     "name": "stdin",
     "output_type": "stream",
     "text": [
      " \n"
     ]
    },
    {
     "name": "stdout",
     "output_type": "stream",
     "text": [
      "93 https://www.freejapanesefont.com/uzura-font-%e3%81%86%e3%81%9a%e3%82%89%e3%83%95%e3%82%a9%e3%83%b3%e3%83%88/\n"
     ]
    },
    {
     "name": "stdin",
     "output_type": "stream",
     "text": [
      " \n"
     ]
    },
    {
     "name": "stdout",
     "output_type": "stream",
     "text": [
      "94 https://www.freejapanesefont.com/azuki-font-%e3%81%82%e3%81%9a%e3%81%8d%e3%83%95%e3%82%a9%e3%83%b3%e3%83%88/\n"
     ]
    },
    {
     "name": "stdin",
     "output_type": "stream",
     "text": [
      " \n"
     ]
    },
    {
     "name": "stdout",
     "output_type": "stream",
     "text": [
      "95 https://www.freejapanesefont.com/sr-tsunoda-san-sr%e8%a7%92%e7%94%b0%e3%81%95%e3%82%93/\n"
     ]
    },
    {
     "name": "stdin",
     "output_type": "stream",
     "text": [
      " \n"
     ]
    },
    {
     "name": "stdout",
     "output_type": "stream",
     "text": [
      "96 https://www.freejapanesefont.com/armed-lemon-%e3%82%a2%e3%83%bc%e3%83%a0%e3%83%89%e3%83%ac%e3%83%a2%e3%83%b3/\n"
     ]
    },
    {
     "name": "stdin",
     "output_type": "stream",
     "text": [
      " \n"
     ]
    },
    {
     "name": "stdout",
     "output_type": "stream",
     "text": [
      "97 https://www.freejapanesefont.com/sawarabi-gothic-%e3%81%95%e3%82%8f%e3%82%89%e3%81%b3%e3%82%b4%e3%82%b7%e3%83%83%e3%82%af/\n"
     ]
    },
    {
     "name": "stdin",
     "output_type": "stream",
     "text": [
      " \n"
     ]
    },
    {
     "name": "stdout",
     "output_type": "stream",
     "text": [
      "98 https://www.freejapanesefont.com/migu-font-%e3%83%9f%e3%82%b0%e3%83%95%e3%82%a9%e3%83%b3%e3%83%88/\n"
     ]
    },
    {
     "name": "stdin",
     "output_type": "stream",
     "text": [
      " \n"
     ]
    },
    {
     "name": "stdout",
     "output_type": "stream",
     "text": [
      "99 https://www.freejapanesefont.com/waon-r-trial-%e5%92%8c%e9%9f%b3-r/\n"
     ]
    },
    {
     "name": "stdin",
     "output_type": "stream",
     "text": [
      " \n"
     ]
    },
    {
     "name": "stdout",
     "output_type": "stream",
     "text": [
      "100 https://www.freejapanesefont.com/puchikuma-font-%e3%81%b7%e3%81%a1%e3%81%8f%e3%81%be%e3%81%b5%e3%81%89%e3%82%93%e3%81%a8/\n"
     ]
    },
    {
     "name": "stdin",
     "output_type": "stream",
     "text": [
      " \n"
     ]
    },
    {
     "name": "stdout",
     "output_type": "stream",
     "text": [
      "101 https://www.freejapanesefont.com/kiloji-%e3%81%8d%e3%82%8d%e5%ad%97/\n"
     ]
    },
    {
     "name": "stdin",
     "output_type": "stream",
     "text": [
      " \n"
     ]
    },
    {
     "name": "stdout",
     "output_type": "stream",
     "text": [
      "102 https://www.freejapanesefont.com/aoyagi-reisho-%e9%9d%92%e6%9f%b3%e9%9a%b7%e6%9b%b8%e3%81%97%e3%82%82/\n"
     ]
    },
    {
     "name": "stdin",
     "output_type": "stream",
     "text": [
      " \n"
     ]
    },
    {
     "name": "stdout",
     "output_type": "stream",
     "text": [
      "103 https://www.freejapanesefont.com/tanuki-font-%e3%81%9f%e3%81%ac%e3%81%8d%e6%b2%b9%e6%80%a7%e3%83%9e%e3%82%b8%e3%83%83%e3%82%af/\n"
     ]
    },
    {
     "name": "stdin",
     "output_type": "stream",
     "text": [
      " \n"
     ]
    },
    {
     "name": "stdout",
     "output_type": "stream",
     "text": [
      "104 https://www.freejapanesefont.com/fuboh-felt-pen-04-%e4%b8%8d%e5%bf%98%e3%83%95%e3%82%a7%e3%83%ab%e3%83%88%e3%83%9a%e3%83%b3%e6%9b%b8%e4%bd%93/\n"
     ]
    },
    {
     "name": "stdin",
     "output_type": "stream",
     "text": [
      " \n"
     ]
    },
    {
     "name": "stdout",
     "output_type": "stream",
     "text": [
      "105 https://www.freejapanesefont.com/elmer-font-%e3%81%88%e3%82%8b%e3%81%be%e3%83%bc%e3%83%95%e3%82%a9%e3%83%b3%e3%83%88/\n"
     ]
    },
    {
     "name": "stdin",
     "output_type": "stream",
     "text": [
      " \n"
     ]
    },
    {
     "name": "stdout",
     "output_type": "stream",
     "text": [
      "106 https://www.freejapanesefont.com/rii-pop-%e3%82%8a%e3%81%84%e3%83%9d%e3%83%83%e3%83%97%e8%a7%92/\n"
     ]
    },
    {
     "name": "stdin",
     "output_type": "stream",
     "text": [
      " \n"
     ]
    },
    {
     "name": "stdout",
     "output_type": "stream",
     "text": [
      "107 https://www.freejapanesefont.com/riis-brush-handwriting/\n"
     ]
    },
    {
     "name": "stdin",
     "output_type": "stream",
     "text": [
      " \n"
     ]
    },
    {
     "name": "stdout",
     "output_type": "stream",
     "text": [
      "108 https://www.freejapanesefont.com/9chan-font-%e4%b9%9d%e3%81%a1%e3%82%83%e3%82%93%e3%83%95%e3%82%a9%e3%83%b3%e3%83%88/\n"
     ]
    },
    {
     "name": "stdin",
     "output_type": "stream",
     "text": [
      " \n"
     ]
    },
    {
     "name": "stdout",
     "output_type": "stream",
     "text": [
      "109 https://www.freejapanesefont.com/kokutetsu-ppoi-font-%e5%9b%bd%e9%89%84%e3%81%a3%e3%81%bd%e3%81%84%e3%83%95%e3%82%a9%e3%83%b3%e3%83%88/\n"
     ]
    },
    {
     "name": "stdin",
     "output_type": "stream",
     "text": [
      " \n"
     ]
    },
    {
     "name": "stdout",
     "output_type": "stream",
     "text": [
      "110 https://www.freejapanesefont.com/holiday-mdjp03/\n"
     ]
    },
    {
     "name": "stdin",
     "output_type": "stream",
     "text": [
      " \n"
     ]
    },
    {
     "name": "stdout",
     "output_type": "stream",
     "text": [
      "111 https://www.freejapanesefont.com/rounded-m-font-family-7-weights/\n"
     ]
    },
    {
     "name": "stdin",
     "output_type": "stream",
     "text": [
      " \n"
     ]
    },
    {
     "name": "stdout",
     "output_type": "stream",
     "text": [
      "112 https://www.freejapanesefont.com/japonesque-%e3%81%98%e3%82%83%e3%81%bd%e3%81%ad%e3%81%99%e3%81%8f/\n"
     ]
    },
    {
     "name": "stdin",
     "output_type": "stream",
     "text": [
      " \n"
     ]
    },
    {
     "name": "stdout",
     "output_type": "stream",
     "text": [
      "113 https://www.freejapanesefont.com/yasashisa-gothic-bold-%e3%82%84%e3%81%95%e3%81%97%e3%81%95%e3%82%b4%e3%82%b7%e3%83%83%e3%82%af%e3%83%9c%e3%83%bc%e3%83%ab%e3%83%89/\n"
     ]
    },
    {
     "name": "stdin",
     "output_type": "stream",
     "text": [
      " \n"
     ]
    },
    {
     "name": "stdout",
     "output_type": "stream",
     "text": [
      "114 https://www.freejapanesefont.com/yasashisa-gothic-%e3%82%84%e3%81%95%e3%81%97%e3%81%95%e3%82%b4%e3%82%b7%e3%83%83%e3%82%af/\n"
     ]
    },
    {
     "name": "stdin",
     "output_type": "stream",
     "text": [
      " \n"
     ]
    },
    {
     "name": "stdout",
     "output_type": "stream",
     "text": [
      "115 https://www.freejapanesefont.com/eri-ji-%e3%81%88%e3%82%8a%e5%ad%97/\n"
     ]
    },
    {
     "name": "stdin",
     "output_type": "stream",
     "text": [
      " \n"
     ]
    },
    {
     "name": "stdout",
     "output_type": "stream",
     "text": [
      "116 https://www.freejapanesefont.com/reiko-font/\n"
     ]
    },
    {
     "name": "stdin",
     "output_type": "stream",
     "text": [
      " \n"
     ]
    },
    {
     "name": "stdout",
     "output_type": "stream",
     "text": [
      "117 https://www.freejapanesefont.com/honya-font/\n"
     ]
    },
    {
     "name": "stdin",
     "output_type": "stream",
     "text": [
      " \n"
     ]
    },
    {
     "name": "stdout",
     "output_type": "stream",
     "text": [
      "118 https://www.freejapanesefont.com/kouzan-semi-cursive-brush-font/\n"
     ]
    },
    {
     "name": "stdin",
     "output_type": "stream",
     "text": [
      " \n"
     ]
    },
    {
     "name": "stdout",
     "output_type": "stream",
     "text": [
      "119 https://www.freejapanesefont.com/ipaex-gothic/\n"
     ]
    },
    {
     "name": "stdin",
     "output_type": "stream",
     "text": [
      " \n"
     ]
    },
    {
     "name": "stdout",
     "output_type": "stream",
     "text": [
      "120 https://www.freejapanesefont.com/ipaex-mincho/\n"
     ]
    }
   ],
   "source": [
    "num = 1\n",
    "for link in links:\n",
    "    print(num, link)\n",
    "    num+= 1\n",
    "    input()"
   ]
  },
  {
   "cell_type": "code",
   "execution_count": null,
   "id": "8e9ed1e5",
   "metadata": {},
   "outputs": [],
   "source": []
  }
 ],
 "metadata": {
  "kernelspec": {
   "display_name": "Python 3",
   "language": "python",
   "name": "python3"
  },
  "language_info": {
   "codemirror_mode": {
    "name": "ipython",
    "version": 3
   },
   "file_extension": ".py",
   "mimetype": "text/x-python",
   "name": "python",
   "nbconvert_exporter": "python",
   "pygments_lexer": "ipython3",
   "version": "3.9.2"
  }
 },
 "nbformat": 4,
 "nbformat_minor": 5
}
