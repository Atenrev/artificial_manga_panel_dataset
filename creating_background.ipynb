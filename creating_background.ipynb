{
 "cells": [
  {
   "cell_type": "code",
   "execution_count": 7,
   "metadata": {},
   "outputs": [],
   "source": [
    "import cv2\n",
    "import numpy as np\n",
    "import matplotlib.pyplot as plt"
   ]
  },
  {
   "cell_type": "code",
   "execution_count": 71,
   "metadata": {},
   "outputs": [],
   "source": [
    "plt.rcParams['figure.figsize'] = [14, 8]\n",
    "\n",
    "def plot_image(img):\n",
    "    plt.imshow(img)\n",
    "    plt.show()"
   ]
  },
  {
   "cell_type": "code",
   "execution_count": 178,
   "metadata": {},
   "outputs": [
    {
     "data": {
      "image/png": "[encoded data removed]",
      "text/plain": [
       "<Figure size 1008x576 with 1 Axes>"
      ]
     },
     "metadata": {
      "needs_background": "light"
     },
     "output_type": "display_data"
    }
   ],
   "source": [
    "img = np.zeros([756,512,3],dtype=np.uint8)\n",
    "img[:,:,:] = (np.random.randint(235,255), np.random.randint(205,250), np.random.randint(135,250))\n",
    "plot_image(img)"
   ]
  },
  {
   "cell_type": "code",
   "execution_count": 160,
   "metadata": {},
   "outputs": [],
   "source": [
    "BG_COLOR = 209\n",
    "BG_SIGMA = 5\n",
    "MONOCHROME = 1\n",
    "\n",
    "\n",
    "def blank_image(width=512, height=756, background=BG_COLOR):\n",
    "    \"\"\"\n",
    "    It creates a blank image of the given background color\n",
    "    \"\"\"\n",
    "    img = np.full((height, width, MONOCHROME), background, np.uint8)\n",
    "    return img\n",
    "\n",
    "\n",
    "def add_noise(img, sigma=BG_SIGMA):\n",
    "    \"\"\"\n",
    "    Adds noise to the existing image\n",
    "    \"\"\"\n",
    "    width, height, ch = img.shape\n",
    "    n = noise(width, height, sigma=sigma)\n",
    "    img = img + n\n",
    "    return img.clip(0, 255)\n",
    "\n",
    "\n",
    "def noise(width, height, ratio=1, sigma=BG_SIGMA):\n",
    "    \"\"\"\n",
    "    The function generates an image, filled with gaussian nose. If ratio parameter is specified,\n",
    "    noise will be generated for a lesser image and then it will be upscaled to the original size.\n",
    "    In that case noise will generate larger square patterns. To avoid multiple lines, the upscale\n",
    "    uses interpolation.\n",
    "\n",
    "    :param ratio: the size of generated noise \"pixels\"\n",
    "    :param sigma: defines bounds of noise fluctuations\n",
    "    \"\"\"\n",
    "    mean = 0\n",
    "    assert width % ratio == 0, \"Can't scale image with of size {} and ratio {}\".format(width, ratio)\n",
    "    assert height % ratio == 0, \"Can't scale image with of size {} and ratio {}\".format(height, ratio)\n",
    "\n",
    "    h = int(height / ratio)\n",
    "    w = int(width / ratio)\n",
    "\n",
    "    result = np.random.normal(mean, sigma, (w, h, MONOCHROME))\n",
    "    if ratio > 1:\n",
    "        result = cv2.resize(result, dsize=(width, height), interpolation=cv2.INTER_LINEAR)\n",
    "    return result.reshape((width, height, MONOCHROME))\n",
    "\n",
    "\n",
    "def texture(image, sigma=BG_SIGMA, turbulence=2):\n",
    "    \"\"\"\n",
    "    Consequently applies noise patterns to the original image from big to small.\n",
    "\n",
    "    sigma: defines bounds of noise fluctuations\n",
    "    turbulence: defines how quickly big patterns will be replaced with the small ones. The lower\n",
    "    value - the more iterations will be performed during texture generation.\n",
    "    \"\"\"\n",
    "    result = image.astype(float)\n",
    "    cols, rows, ch = image.shape\n",
    "    ratio = min(cols, rows)\n",
    "    while not ratio == 1:\n",
    "        result += noise(cols, rows, ratio, sigma=sigma)\n",
    "        ratio = (ratio // turbulence) or 1\n",
    "    cut = np.clip(result, 0, 255)\n",
    "    return cut.astype(np.uint8)\n"
   ]
  },
  {
   "cell_type": "code",
   "execution_count": 185,
   "metadata": {},
   "outputs": [],
   "source": [
    "img_noise = add_noise(blank_image(512, 756), sigma=np.random.randint(2, 5))\n",
    "img_noise = np.multiply(img, img_noise/255.0).astype(np.uint8)\n"
   ]
  },
  {
   "cell_type": "code",
   "execution_count": 190,
   "metadata": {},
   "outputs": [],
   "source": [
    "from augraphy import *\n",
    "\n",
    "pipeline = default_augraphy_pipeline()\n",
    "data = pipeline.augment(img_noise)\n",
    "augmented = data[\"output\"]"
   ]
  },
  {
   "cell_type": "code",
   "execution_count": 191,
   "metadata": {},
   "outputs": [
    {
     "data": {
      "text/plain": [
       "True"
      ]
     },
     "execution_count": 191,
     "metadata": {},
     "output_type": "execute_result"
    }
   ],
   "source": [
    "cv2.imwrite(\"test.png\", cv2.cvtColor(augmented, cv2.COLOR_RGB2BGR))"
   ]
  },
  {
   "cell_type": "code",
   "execution_count": 45,
   "metadata": {},
   "outputs": [],
   "source": [
    "rampl = np.linspace(1, 0, 256)\n",
    "rampl = np.tile(np.transpose(rampl), (512, 1))\n",
    "rampl = cv2.merge([rampl,rampl,rampl])"
   ]
  },
  {
   "cell_type": "code",
   "execution_count": 46,
   "metadata": {},
   "outputs": [
    {
     "name": "stderr",
     "output_type": "stream",
     "text": [
      "Clipping input data to the valid range for imshow with RGB data ([0..1] for floats or [0..255] for integers).\n"
     ]
    },
    {
     "data": {
      "image/png": "[encoded data removed]",
      "text/plain": [
       "<Figure size 432x288 with 1 Axes>"
      ]
     },
     "metadata": {
      "needs_background": "light"
     },
     "output_type": "display_data"
    }
   ],
   "source": [
    "plot_image(img*rampl)"
   ]
  }
 ],
 "metadata": {
  "kernelspec": {
   "display_name": "Python 3.8.0 ('artificial_panel_dataset')",
   "language": "python",
   "name": "python3"
  },
  "language_info": {
   "codemirror_mode": {
    "name": "ipython",
    "version": 3
   },
   "file_extension": ".py",
   "mimetype": "text/x-python",
   "name": "python",
   "nbconvert_exporter": "python",
   "pygments_lexer": "ipython3",
   "version": "3.8.0"
  },
  "orig_nbformat": 4,
  "vscode": {
   "interpreter": {
    "hash": "7edea3d66e269ac477ac2b0ab9c11af90c359fdc6315e6c2c0fd03e67b2a37cb"
   }
  }
 },
 "nbformat": 4,
 "nbformat_minor": 2
}
